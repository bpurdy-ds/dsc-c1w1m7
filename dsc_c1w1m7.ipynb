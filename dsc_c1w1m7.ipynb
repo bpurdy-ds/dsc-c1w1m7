{
  "nbformat": 4,
  "nbformat_minor": 0,
  "metadata": {
    "colab": {
      "provenance": []
    },
    "kernelspec": {
      "name": "python3",
      "display_name": "Python 3"
    },
    "language_info": {
      "name": "python"
    }
  },
  "cells": [
    {
      "cell_type": "markdown",
      "source": [
        "# Practice Data Engineering with Python\n",
        "\n",
        "Fill out the code, as necessary, below based on the directions in Canvas"
      ],
      "metadata": {
        "id": "MjhbqHwWYP8w"
      }
    },
    {
      "cell_type": "code",
      "execution_count": null,
      "metadata": {
        "id": "i0WCVr4FX9es"
      },
      "outputs": [],
      "source": []
    }
  ]
}